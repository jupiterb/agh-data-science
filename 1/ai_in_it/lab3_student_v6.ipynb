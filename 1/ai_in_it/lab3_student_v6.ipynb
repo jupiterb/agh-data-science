{
  "cells": [
    {
      "cell_type": "markdown",
      "metadata": {
        "id": "fs1IGQZELwru"
      },
      "source": [
        "# LAB3 - Uczenie sieci neuronowych z wykorzystaniem GPU\n",
        "ver: 6"
      ]
    },
    {
      "cell_type": "markdown",
      "metadata": {
        "id": "yS56lpyELwry"
      },
      "source": [
        "Przedmiot: _Sztuczna Inteligencja w Systemach Informatycznych_\n",
        "\n",
        "Autor: Tomasz Szydło\n",
        "\n",
        "kontakt: tszydlo@agh.edu.pl"
      ]
    },
    {
      "cell_type": "markdown",
      "metadata": {
        "id": "AZ_S41L3Lwr6"
      },
      "source": [
        "Celem laboratorium jest porównanie czasu uczenia sieci neuronowych z wykorzystaniem CPU oraz GPU. Przedmiotem uczenia będzie sieć rozpoznająca cyfry pisane odręcznie. W procesie uczenia zostanie wykorzystany zbiór MNIST:\n",
        "\n",
        "http://yann.lecun.com/exdb/mnist/\n",
        "\n",
        "\n",
        "Laboratorium może być zrealizowane w dwóch środowiskach pracy:\n",
        " * Google Colab w chmurze obliczeniowej;\n",
        " * lokalnie na komputerze wyposażonym w GPU.\n"
      ]
    },
    {
      "cell_type": "markdown",
      "metadata": {
        "id": "IpmQdcI4FZ1L"
      },
      "source": [
        "## Środowisko pracy - Google Codelab\n",
        "\n",
        "https://codelabs.developers.google.com/?cat=Machine+Learning\n",
        "\n",
        "Dostęp do notatnika: https://colab.research.google.com\n",
        "\n",
        "Włączenie/wyłączenie wsparcia GPU odbywa się poprzez zmianę opcji środowiska uruchomieniowego:\n",
        " * Runtime -> Change runtime type -> Hardware accelerator -> None/GPU\n"
      ]
    },
    {
      "cell_type": "markdown",
      "metadata": {
        "id": "e1Q7W6I1FsVO"
      },
      "source": [
        "## Środowisko pracy - PC + GPU/CUDA + Anaconda\n",
        "\n",
        "Realizacja laboratorium wymaga Anacondy ze środowiskami:\n",
        " * tensorflow\n",
        " * tensorflow_gpuenv\n",
        " \n",
        "Różnica pomiędzy nimi polega na wykorzystaniu implementacji biblioteki Tensorflow z NVidia CUDA.\n",
        "\n",
        "Tworzenie środowisk:\n",
        " * wersja z CPU:\n",
        "\n",
        "```\n",
        "conda create -n tensorflow_env tensorflow\n",
        "conda activate tensorflow_env\n",
        "```\n",
        "\n",
        " * wersja z GPU:\n",
        "\n",
        "```\n",
        "conda create -n tensorflow_gpuenv tensorflow-gpu\n",
        "conda activate tensorflow_gpuenv\n",
        "```\n",
        "\n",
        "Za pomocą Anaconda Navigator uruchamiamy Jupyter Notebook w konkretnym środowisku - tylko CPU lub ze wsparciem GPU.\n"
      ]
    },
    {
      "cell_type": "markdown",
      "metadata": {
        "id": "F25OBqfZLwsA"
      },
      "source": [
        "## Sieć neuronowa dla zbioru MNIST"
      ]
    },
    {
      "cell_type": "markdown",
      "metadata": {
        "id": "aTQZi3VcLwsC"
      },
      "source": [
        "Przygotowanie środowiska - należy uruchomić notatnik z obliczeniami wyłącznie na CPU."
      ]
    },
    {
      "cell_type": "code",
      "execution_count": 1,
      "metadata": {
        "colab": {
          "base_uri": "https://localhost:8080/"
        },
        "id": "Qs9wYVcZNY05",
        "outputId": "2be3054c-ffd5-4214-b495-83653b327949"
      },
      "outputs": [
        {
          "name": "stdout",
          "output_type": "stream",
          "text": [
            "Colab only includes TensorFlow 2.x; %tensorflow_version has no effect.\n"
          ]
        }
      ],
      "source": [
        "try:\n",
        "  %tensorflow_version 2.x\n",
        "except:\n",
        "  pass"
      ]
    },
    {
      "cell_type": "code",
      "execution_count": 2,
      "metadata": {
        "id": "y3MzdLevLwsD"
      },
      "outputs": [],
      "source": [
        "import numpy as np\n",
        "import matplotlib.pyplot as plt\n",
        "import tensorflow\n",
        "\n",
        "from tensorflow.keras.datasets import mnist\n",
        "from tensorflow.keras.models import Sequential\n",
        "from tensorflow.keras.layers import Dense, Dropout, Activation, Flatten, Conv2D, AveragePooling2D\n",
        "from keras.utils import np_utils\n",
        "\n",
        "plt.rcParams['figure.figsize'] = (7,7) # Make the figures a bit bigger"
      ]
    },
    {
      "cell_type": "code",
      "execution_count": 3,
      "metadata": {
        "colab": {
          "base_uri": "https://localhost:8080/"
        },
        "id": "aM1I_zfvxOKD",
        "outputId": "34ee579f-ac06-4ac3-ad39-8ff095593bec"
      },
      "outputs": [
        {
          "name": "stdout",
          "output_type": "stream",
          "text": [
            "Num GPUs: 1\n"
          ]
        }
      ],
      "source": [
        "physical_devices = tensorflow.config.list_physical_devices('GPU')\n",
        "print(\"Num GPUs:\", len(physical_devices))"
      ]
    },
    {
      "cell_type": "code",
      "execution_count": 4,
      "metadata": {
        "colab": {
          "base_uri": "https://localhost:8080/"
        },
        "id": "6aDH7dBMLwsY",
        "outputId": "37cda2e0-efe3-48b2-ca96-b3d145dff080"
      },
      "outputs": [
        {
          "name": "stdout",
          "output_type": "stream",
          "text": [
            "Downloading data from https://storage.googleapis.com/tensorflow/tf-keras-datasets/mnist.npz\n",
            "11490434/11490434 [==============================] - 0s 0us/step\n",
            "X_train original shape (60000, 28, 28)\n",
            "y_train original shape (60000,)\n"
          ]
        }
      ],
      "source": [
        "nb_classes = 10\n",
        "\n",
        "# the data, shuffled and split between tran and test sets\n",
        "(X_train, y_train), (X_test, y_test) = mnist.load_data()\n",
        "print(\"X_train original shape\", X_train.shape)\n",
        "print(\"y_train original shape\", y_train.shape)"
      ]
    },
    {
      "cell_type": "markdown",
      "metadata": {
        "id": "e1Fb4X4sLwsh"
      },
      "source": [
        "Zwizualizuj przykładowe dane."
      ]
    },
    {
      "cell_type": "code",
      "execution_count": 5,
      "metadata": {
        "colab": {
          "base_uri": "https://localhost:8080/",
          "height": 444
        },
        "id": "q741OgE6Lwsi",
        "outputId": "236b457e-08ed-4178-f68d-2eddcb423870"
      },
      "outputs": [
        {
          "data": {
            "image/png": "[encoded data removed]",
            "text/plain": [
              "<Figure size 504x504 with 9 Axes>"
            ]
          },
          "metadata": {
            "needs_background": "light"
          },
          "output_type": "display_data"
        }
      ],
      "source": [
        "for i in range(9):\n",
        "    plt.subplot(3,3,i+1)\n",
        "    plt.imshow(X_train[i], cmap='gray', interpolation='none')\n",
        "    plt.title(\"Class {}\".format(y_train[i]))"
      ]
    },
    {
      "cell_type": "markdown",
      "metadata": {
        "id": "NuFEHgMhLwsp"
      },
      "source": [
        "Sieć neuronowa przyjmuje na wejściu obrazek z jednym kanałem - poziomem jasności, więc konieczne jest przekształcenie danych wejściowych, aby każdy obraz 28 x 28 stał się macierzą 28 x 28 x 1. \n",
        "\n",
        "Skalujemy również dane wejściowe w zakresie [0–1] zamiast [0–255]"
      ]
    },
    {
      "cell_type": "code",
      "execution_count": 6,
      "metadata": {
        "colab": {
          "base_uri": "https://localhost:8080/"
        },
        "id": "2XwmB8dSLwsq",
        "outputId": "cafa19a2-b928-4bc4-89c7-6d85518b727e"
      },
      "outputs": [
        {
          "name": "stdout",
          "output_type": "stream",
          "text": [
            "Training matrix shape (60000, 28, 28, 1)\n",
            "Testing matrix shape (10000, 28, 28, 1)\n"
          ]
        }
      ],
      "source": [
        "X_train = X_train.reshape(60000, 28,28,1)\n",
        "X_test = X_test.reshape(10000, 28,28,1)\n",
        "\n",
        "X_train = X_train.astype('float32')\n",
        "X_test = X_test.astype('float32')\n",
        "X_train /= 255\n",
        "X_test /= 255\n",
        "print(\"Training matrix shape\", X_train.shape)\n",
        "print(\"Testing matrix shape\", X_test.shape)"
      ]
    },
    {
      "cell_type": "markdown",
      "metadata": {
        "id": "hU9F52b4Lwsy"
      },
      "source": [
        "Zmodyfikuj macierze wyjść korzystając z techniki One Hot Encoding, tj.\n",
        "\n",
        "```\n",
        "0 -> [1, 0, 0, 0, 0, 0, 0, 0, 0]\n",
        "1 -> [0, 1, 0, 0, 0, 0, 0, 0, 0]\n",
        "2 -> [0, 0, 1, 0, 0, 0, 0, 0, 0]\n",
        "```\n",
        "itp."
      ]
    },
    {
      "cell_type": "code",
      "execution_count": 7,
      "metadata": {
        "id": "mOEeudBmLwsz"
      },
      "outputs": [],
      "source": [
        "Y_train = np_utils.to_categorical(y_train)\n",
        "Y_test = np_utils.to_categorical(y_test)"
      ]
    },
    {
      "cell_type": "markdown",
      "metadata": {
        "id": "AM5Kq1eaLws4"
      },
      "source": [
        "#Sieć MLP\n",
        "Zbuduj sieć neuronową. Na potrzeby zajęć sieć będzie posiadała 2 w pełni połączone warstwy. Na wejściu sieci jest macierz z jednym kanałem (28,28,1) dlatego pierwsza warstwa to *Flatten()*."
      ]
    },
    {
      "cell_type": "code",
      "execution_count": 8,
      "metadata": {
        "id": "wKreY86SLws5"
      },
      "outputs": [],
      "source": [
        "model = Sequential()\n",
        "model.add(Flatten(input_shape=(28,28,)))\n",
        "model.add(Dense(512, input_shape=(784,)))\n",
        "model.add(Activation('relu'))\n",
        "model.add(Dropout(0.2))   # Dropout helps protect the model from memorizing or \"overfitting\" the training data\n",
        "\n",
        "model.add(Dense(512))\n",
        "model.add(Activation('relu'))\n",
        "model.add(Dropout(0.2))\n",
        "\n",
        "model.add(Dense(10))\n",
        "model.add(Activation('softmax')) # w celu zapewnienia rozkładu wyjść sumującego się do 1"
      ]
    },
    {
      "cell_type": "markdown",
      "metadata": {
        "id": "5IIpzKZJ2gaQ"
      },
      "source": [
        "#Sieć CNN\n",
        "Zbuduj sieć neuronową. Powinna to być sieć LeNet-5 ze zmodyfikowanym rozmiarem wejścia (28,28,1) zamiast (32,32,1)."
      ]
    },
    {
      "cell_type": "code",
      "execution_count": 16,
      "metadata": {
        "id": "CDGMkAkw2jjO"
      },
      "outputs": [],
      "source": [
        "model = Sequential()\n",
        "model.add(Conv2D(filters=6, kernel_size=(3, 3), activation='relu', input_shape=(28,28,1)))\n",
        "model.add(AveragePooling2D())\n",
        "model.add(Conv2D(filters=16, kernel_size=(3, 3), activation='relu'))\n",
        "model.add(AveragePooling2D())\n",
        "model.add(Flatten())\n",
        "model.add(Dense(units=120, activation='relu'))\n",
        "model.add(Dense(units=84, activation='relu'))\n",
        "model.add(Dense(units=10, activation = 'softmax')) "
      ]
    },
    {
      "cell_type": "markdown",
      "metadata": {
        "id": "aWGpp5O1Lws-"
      },
      "source": [
        "#Kompilacja modelu\n",
        "\n",
        "Kolejnym krokiem jest kompilacja modelu. Biblioteka Keras jest wysokopoziomowym API upraszczającym tworzenie i uczenie sieci neuronowych z wykorzystaniem biblitoeki Tensorflow. Podczas kompilacji sieci, biblioteka Keras wymaga określenia funkcji strat oraz algorytmu optymalizującego proces uczenia."
      ]
    },
    {
      "cell_type": "code",
      "execution_count": 17,
      "metadata": {
        "id": "Cpn0-puHLws-"
      },
      "outputs": [],
      "source": [
        "model.compile(loss='categorical_crossentropy', optimizer='adam', metrics=['accuracy'])"
      ]
    },
    {
      "cell_type": "code",
      "execution_count": 18,
      "metadata": {
        "colab": {
          "base_uri": "https://localhost:8080/"
        },
        "id": "MZH1a31GLwtF",
        "outputId": "21a6164a-9c47-4ac8-9456-d9e78976b07e"
      },
      "outputs": [
        {
          "name": "stdout",
          "output_type": "stream",
          "text": [
            "Model: \"sequential_1\"\n",
            "_________________________________________________________________\n",
            " Layer (type)                Output Shape              Param #   \n",
            "=================================================================\n",
            " conv2d (Conv2D)             (None, 26, 26, 6)         60        \n",
            "                                                                 \n",
            " average_pooling2d (AverageP  (None, 13, 13, 6)        0         \n",
            " ooling2D)                                                       \n",
            "                                                                 \n",
            " conv2d_1 (Conv2D)           (None, 11, 11, 16)        880       \n",
            "                                                                 \n",
            " average_pooling2d_1 (Averag  (None, 5, 5, 16)         0         \n",
            " ePooling2D)                                                     \n",
            "                                                                 \n",
            " flatten_1 (Flatten)         (None, 400)               0         \n",
            "                                                                 \n",
            " dense_3 (Dense)             (None, 120)               48120     \n",
            "                                                                 \n",
            " dense_4 (Dense)             (None, 84)                10164     \n",
            "                                                                 \n",
            " dense_5 (Dense)             (None, 10)                850       \n",
            "                                                                 \n",
            "=================================================================\n",
            "Total params: 60,074\n",
            "Trainable params: 60,074\n",
            "Non-trainable params: 0\n",
            "_________________________________________________________________\n"
          ]
        }
      ],
      "source": [
        "model.summary()"
      ]
    },
    {
      "cell_type": "markdown",
      "metadata": {
        "id": "oN0iPEysLwtK"
      },
      "source": [
        "Po kompilacji modelu sieci neuronowej można przystąpić do uczenia sieci. Ze względu na fakt, że Jupyter notebook został uruchiomy w środowisku z biblioteką Tensorflow bez wsparcia dla GPU, to obliczenia będa wykonywane tylko i wyłącznie na CPU."
      ]
    },
    {
      "cell_type": "code",
      "execution_count": 19,
      "metadata": {
        "id": "h13u1lcur4wl"
      },
      "outputs": [],
      "source": [
        "import time\n",
        "import keras\n",
        "class TimeHistory(keras.callbacks.Callback):\n",
        "    def on_train_begin(self, logs={}):\n",
        "        self.times = []\n",
        "\n",
        "    def on_epoch_begin(self, batch, logs={}):\n",
        "        self.epoch_time_start = time.time()\n",
        "\n",
        "    def on_epoch_end(self, batch, logs={}):\n",
        "        self.times.append(time.time() - self.epoch_time_start)\n",
        "time_callback = TimeHistory()"
      ]
    },
    {
      "cell_type": "code",
      "execution_count": 20,
      "metadata": {
        "colab": {
          "base_uri": "https://localhost:8080/"
        },
        "id": "97euA1BoLwtK",
        "outputId": "7cc0f41d-1743-4773-a36c-fa071d5dccce"
      },
      "outputs": [
        {
          "name": "stdout",
          "output_type": "stream",
          "text": [
            "Epoch 1/16\n",
            "469/469 [==============================] - 10s 5ms/step - loss: 0.4060 - accuracy: 0.8826 - val_loss: 0.1517 - val_accuracy: 0.9572\n",
            "Epoch 2/16\n",
            "469/469 [==============================] - 2s 4ms/step - loss: 0.1283 - accuracy: 0.9612 - val_loss: 0.0871 - val_accuracy: 0.9733\n",
            "Epoch 3/16\n",
            "469/469 [==============================] - 2s 5ms/step - loss: 0.0861 - accuracy: 0.9737 - val_loss: 0.0714 - val_accuracy: 0.9778\n",
            "Epoch 4/16\n",
            "469/469 [==============================] - 3s 6ms/step - loss: 0.0698 - accuracy: 0.9783 - val_loss: 0.0586 - val_accuracy: 0.9807\n",
            "Epoch 5/16\n",
            "469/469 [==============================] - 2s 5ms/step - loss: 0.0583 - accuracy: 0.9825 - val_loss: 0.0611 - val_accuracy: 0.9802\n",
            "Epoch 6/16\n",
            "469/469 [==============================] - 2s 5ms/step - loss: 0.0507 - accuracy: 0.9841 - val_loss: 0.0482 - val_accuracy: 0.9831\n",
            "Epoch 7/16\n",
            "469/469 [==============================] - 2s 5ms/step - loss: 0.0439 - accuracy: 0.9864 - val_loss: 0.0473 - val_accuracy: 0.9848\n",
            "Epoch 8/16\n",
            "469/469 [==============================] - 2s 5ms/step - loss: 0.0391 - accuracy: 0.9877 - val_loss: 0.0537 - val_accuracy: 0.9829\n",
            "Epoch 9/16\n",
            "469/469 [==============================] - 3s 6ms/step - loss: 0.0352 - accuracy: 0.9893 - val_loss: 0.0434 - val_accuracy: 0.9865\n",
            "Epoch 10/16\n",
            "469/469 [==============================] - 2s 4ms/step - loss: 0.0318 - accuracy: 0.9898 - val_loss: 0.0492 - val_accuracy: 0.9847\n",
            "Epoch 11/16\n",
            "469/469 [==============================] - 3s 5ms/step - loss: 0.0266 - accuracy: 0.9910 - val_loss: 0.0376 - val_accuracy: 0.9880\n",
            "Epoch 12/16\n",
            "469/469 [==============================] - 2s 5ms/step - loss: 0.0244 - accuracy: 0.9925 - val_loss: 0.0441 - val_accuracy: 0.9860\n",
            "Epoch 13/16\n",
            "469/469 [==============================] - 2s 5ms/step - loss: 0.0222 - accuracy: 0.9930 - val_loss: 0.0406 - val_accuracy: 0.9881\n",
            "Epoch 14/16\n",
            "469/469 [==============================] - 3s 6ms/step - loss: 0.0215 - accuracy: 0.9931 - val_loss: 0.0416 - val_accuracy: 0.9880\n",
            "Epoch 15/16\n",
            "469/469 [==============================] - 2s 5ms/step - loss: 0.0185 - accuracy: 0.9941 - val_loss: 0.0339 - val_accuracy: 0.9901\n",
            "Epoch 16/16\n",
            "469/469 [==============================] - 2s 5ms/step - loss: 0.0158 - accuracy: 0.9949 - val_loss: 0.0474 - val_accuracy: 0.9868\n"
          ]
        },
        {
          "data": {
            "text/plain": [
              "<keras.callbacks.History at 0x7ffb305e9a00>"
            ]
          },
          "execution_count": 20,
          "metadata": {},
          "output_type": "execute_result"
        }
      ],
      "source": [
        "model.fit(X_train, Y_train,\n",
        "          batch_size=128, epochs=16,\n",
        "          verbose=1,\n",
        "          validation_data=(X_test, Y_test), callbacks = time_callback)"
      ]
    },
    {
      "cell_type": "code",
      "execution_count": 21,
      "metadata": {
        "colab": {
          "base_uri": "https://localhost:8080/"
        },
        "id": "jT9qa296sjL9",
        "outputId": "b77c3599-26b9-42e4-8cc2-eb8102f9f034"
      },
      "outputs": [
        {
          "name": "stdout",
          "output_type": "stream",
          "text": [
            "[9.936832904815674, 2.1122167110443115, 2.365351676940918, 2.714763879776001, 2.2129979133605957, 2.2936620712280273, 2.1749727725982666, 2.162788152694702, 2.7245004177093506, 2.1118311882019043, 2.579824447631836, 2.2551047801971436, 2.2326712608337402, 2.811112403869629, 2.172166585922241, 2.2485902309417725]\n"
          ]
        }
      ],
      "source": [
        "times = time_callback.times\n",
        "\n",
        "print(times)"
      ]
    },
    {
      "cell_type": "markdown",
      "metadata": {
        "id": "QwwGeJ6PLwtp"
      },
      "source": [
        "## Ewaluacja sieci neuronowej dla zbioru MNIST"
      ]
    },
    {
      "cell_type": "code",
      "execution_count": 22,
      "metadata": {
        "colab": {
          "base_uri": "https://localhost:8080/",
          "height": 906
        },
        "id": "W8ZNIBBdLwtr",
        "outputId": "fa6c59a2-021d-4b57-f78c-8ec935854b5f"
      },
      "outputs": [
        {
          "name": "stdout",
          "output_type": "stream",
          "text": [
            "Test score: [0.047381553798913956, 0.9868000149726868]\n",
            "313/313 [==============================] - 1s 2ms/step\n"
          ]
        },
        {
          "data": {
            "image/png": "[encoded data removed]",
            "text/plain": [
              "<Figure size 504x504 with 9 Axes>"
            ]
          },
          "metadata": {
            "needs_background": "light"
          },
          "output_type": "display_data"
        },
        {
          "data": {
            "image/png": "[encoded data removed]",
            "text/plain": [
              "<Figure size 504x504 with 9 Axes>"
            ]
          },
          "metadata": {
            "needs_background": "light"
          },
          "output_type": "display_data"
        }
      ],
      "source": [
        "score = model.evaluate(X_test, Y_test,verbose=0)\n",
        "print('Test score:', score)\n",
        "\n",
        "predicted_classes = np.argmax(model.predict(X_test), axis=-1)\n",
        "correct_indices = np.nonzero(predicted_classes == y_test)[0]\n",
        "incorrect_indices = np.nonzero(predicted_classes != y_test)[0]\n",
        "\n",
        "plt.figure()\n",
        "for i, correct in enumerate(correct_indices[:9]):\n",
        "    plt.subplot(3,3,i+1)\n",
        "    plt.imshow(X_test[correct].reshape(28,28), cmap='gray', interpolation='none')\n",
        "    plt.title(\"Predicted {}, Class {}\".format(predicted_classes[correct], y_test[correct]))\n",
        "    \n",
        "plt.figure()\n",
        "for i, incorrect in enumerate(incorrect_indices[:9]):\n",
        "    plt.subplot(3,3,i+1)\n",
        "    plt.imshow(X_test[incorrect].reshape(28,28), cmap='gray', interpolation='none')\n",
        "    plt.title(\"Predicted {}, Class {}\".format(predicted_classes[incorrect], y_test[incorrect]))"
      ]
    },
    {
      "cell_type": "markdown",
      "metadata": {
        "id": "XT0BYxGwLwtS"
      },
      "source": [
        "## Analiza czasu uczenia sieci z wykorzystaniem CPU oraz przy wsparciu GPU"
      ]
    },
    {
      "cell_type": "markdown",
      "metadata": {
        "id": "jv7kWHYwLwtS"
      },
      "source": [
        "Uzupełnij poniższy fragment kodu wpisując dane dotyczące czasu obliczeń dla każdej z szesnastu epok uczenia sieci neuronowej."
      ]
    },
    {
      "cell_type": "code",
      "execution_count": 15,
      "metadata": {
        "id": "PBhpuE6SLwtT"
      },
      "outputs": [],
      "source": [
        "cpu_epoch_time_MLP = [8.967611074447632, 9.092530012130737, 10.286707401275635, 8.071717262268066, 8.713610649108887, 9.319262504577637, 8.440965414047241, 8.542051076889038, 9.192783832550049, 10.268072843551636, 8.118647575378418, 8.93049144744873, 9.191241979598999, 8.102912187576294, 9.09242057800293, 8.876422643661499]\n",
        "\n",
        "cpu_accuracy_MLP = 0.9824000000953674\n",
        "\n",
        "cpu_epoch_time_CNN = [21.80669617652893, 18.46780562400818, 19.599794626235962, 18.062803506851196, 19.564720392227173, 18.249170064926147, 19.442363023757935, 18.13497018814087, 19.6374773979187, 18.071869134902954, 17.987569332122803, 19.317948818206787, 17.97913408279419, 19.442401885986328, 18.034553289413452, 19.55024480819702]\n",
        "cpu_accuracy_CNN = 0.9897000193595886\n"
      ]
    },
    {
      "cell_type": "markdown",
      "metadata": {
        "id": "rCnXpfgpLwtd"
      },
      "source": [
        "Uaktywnij wsparcie GPU dla obliczeń i uruchom ponownie proces uczenia sieci neuronowej na bazie MNIST i uzupełnij fragment kodu poniżej.\n",
        "\n",
        "W przypadku środowiska Anaconda zamknij środowisko *tensorflow\\_env* i uruchom środowisko *tensorflow\\_gpuenv*. W przypadku Google Colab zmień ustawienia środowiska uruchomieniowego.\n",
        "\n"
      ]
    },
    {
      "cell_type": "code",
      "execution_count": 23,
      "metadata": {
        "id": "r19aSv6jLwte"
      },
      "outputs": [],
      "source": [
        "gpu_epoch_time_MLP = [7.252061367034912, 1.865532398223877, 1.8754141330718994, 1.82718825340271, 2.311866044998169, 1.7996060848236084, 1.7155051231384277, 1.7558600902557373, 1.7080645561218262, 1.7274575233459473, 2.1658735275268555, 2.139667510986328, 1.7000532150268555, 1.6706006526947021, 1.6912133693695068, 1.6900947093963623]\n",
        "gpu_accuracy_MLP = 0.9825000166893005\n",
        "\n",
        "gpu_epoch_time_CNN = [9.936832904815674, 2.1122167110443115, 2.365351676940918, 2.714763879776001, 2.2129979133605957, 2.2936620712280273, 2.1749727725982666, 2.162788152694702, 2.7245004177093506, 2.1118311882019043, 2.579824447631836, 2.2551047801971436, 2.2326712608337402, 2.811112403869629, 2.172166585922241, 2.2485902309417725]\n",
        "gpu_accuracy_CNN = 0.9868000149726868"
      ]
    },
    {
      "cell_type": "markdown",
      "metadata": {
        "id": "FgGmLKKDLwtj"
      },
      "source": [
        "Zwizualizuj i przeanalizuj czas uczenia sieci neuronowej z CPU i GPU."
      ]
    },
    {
      "cell_type": "code",
      "execution_count": 35,
      "metadata": {
        "colab": {
          "base_uri": "https://localhost:8080/",
          "height": 428
        },
        "id": "H8AOGoRtLwtj",
        "outputId": "5b004281-f1f6-4650-8f66-9dd63f2870a5"
      },
      "outputs": [
        {
          "data": {
            "image/png": "[encoded data removed]",
            "text/plain": [
              "<Figure size 504x504 with 1 Axes>"
            ]
          },
          "metadata": {
            "needs_background": "light"
          },
          "output_type": "display_data"
        }
      ],
      "source": [
        "#TODO przedstaw czas obliczeń gpu_epoch_time, cpu_epoch_time na wykresie pudełkowym\n",
        "\n",
        "plt.boxplot(\n",
        "    [cpu_epoch_time_MLP,cpu_epoch_time_CNN,gpu_epoch_time_MLP,gpu_epoch_time_CNN],\n",
        "    labels = [\"CPU MLP\", \"CPU CNN\", \"GPU MLP\", \"GPU CNN\"]\n",
        ")\n",
        "plt.show()"
      ]
    },
    {
      "cell_type": "markdown",
      "metadata": {
        "id": "t23eG5H2PXiu"
      },
      "source": [
        "**Wnioski**\n",
        "\n",
        "*#TODO Przeanalizuj różnicę pomiędzy czasem obliczeń dla CPU i GPU oraz osiągniętą jakością sieci neuronowej.*\n",
        "\n",
        "*#TODO W przypadku korzystania z własnej karty GPU podaj specyfikację techniczą komputera i karty graficznej.*\n",
        "\n"
      ]
    },
    {
      "cell_type": "markdown",
      "metadata": {
        "id": "_4gBiMabNIjW"
      },
      "source": [
        "GPU umożliwia znacznie szybszy trening sieci.\n",
        "\n",
        "Użycie sieci typu CNN dla problemu rozpoznawania obrazów dało lepsze rezultaty niż MLP.\n",
        "\n",
        "CNN trenuje się dłużej niż MLP."
      ]
    }
  ],
  "metadata": {
    "accelerator": "GPU",
    "colab": {
      "provenance": []
    },
    "gpuClass": "standard",
    "kernelspec": {
      "display_name": "Python 3",
      "name": "python3"
    },
    "language_info": {
      "codemirror_mode": {
        "name": "ipython",
        "version": 3
      },
      "file_extension": ".py",
      "mimetype": "text/x-python",
      "name": "python",
      "nbconvert_exporter": "python",
      "pygments_lexer": "ipython3",
      "version": "3.7.6"
    }
  },
  "nbformat": 4,
  "nbformat_minor": 0
}
