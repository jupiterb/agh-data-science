{
 "cells": [
  {
   "cell_type": "markdown",
   "metadata": {},
   "source": [
    "# Task 1-2\n",
    "Set up ElasticSearch."
   ]
  },
  {
   "cell_type": "code",
   "execution_count": 1,
   "metadata": {},
   "outputs": [
    {
     "name": "stdout",
     "output_type": "stream",
     "text": [
      "{'name': '4cee569dd95c', 'cluster_name': 'docker-cluster', 'cluster_uuid': 'C6HNYnebRPKkIaodGR2WZw', 'version': {'number': '8.8.2', 'build_flavor': 'default', 'build_type': 'docker', 'build_hash': '98e1271edf932a480e4262a471281f1ee295ce6b', 'build_date': '2023-06-26T05:16:16.196344851Z', 'build_snapshot': False, 'lucene_version': '9.6.0', 'minimum_wire_compatibility_version': '7.17.0', 'minimum_index_compatibility_version': '7.0.0'}, 'tagline': 'You Know, for Search'}\n"
     ]
    }
   ],
   "source": [
    "from elasticsearch import Elasticsearch, helpers\n",
    "\n",
    "es = Elasticsearch(\n",
    "    \"https://localhost:9200\",\n",
    "    basic_auth=(\"elastic\", \"eDNC+ksvF7HSEkaAT-TL\"),\n",
    "    ca_certs=\"./elasticsearch/http_ca.crt\",\n",
    ")\n",
    "\n",
    "info = es.info()\n",
    "print(info)"
   ]
  },
  {
   "cell_type": "markdown",
   "metadata": {},
   "source": [
    "# Task 3-4\n",
    "Define an ES analyzer for Polish texts containing:\n",
    "- standard tokenizer\n",
    "- synonym filter with alternative forms for months, e.g. wrzesień, wrz, IX.\n",
    "- lowercase filter\n",
    "- Morfologik-based lemmatizer\n",
    "- lowercase filter (looks strange, but Morfologi produces capitalized base forms for proper names, so we have to lowercase them once more).\n",
    "\n",
    "Define another analyzer for Polish, without the synonym filter.\n"
   ]
  },
  {
   "cell_type": "code",
   "execution_count": 2,
   "metadata": {},
   "outputs": [
    {
     "data": {
      "text/plain": [
       "{'tokenizer': 'standard',\n",
       " 'filter': ['lowercase', 'months_synonyms', 'morfologik_stem', 'lowercase']}"
      ]
     },
     "execution_count": 2,
     "metadata": {},
     "output_type": "execute_result"
    }
   ],
   "source": [
    "months_synonyms_filter = {\n",
    "    \"months_synonyms\": {\n",
    "        \"type\": \"synonym\",\n",
    "        \"synonyms\": [\n",
    "            \"styczeń, sty, I\",\n",
    "            \"luty, lut, II\",\n",
    "            \"marzec, mar, III\",\n",
    "            \"kwiecień, kwi, IV\",\n",
    "            \"maj, V\",\n",
    "            \"czerwiec, cze, VI\",\n",
    "            \"lipiec, lip, VII\",\n",
    "            \"sierpień, sie, VIII\",\n",
    "            \"wrzesień, wrz, IX\",\n",
    "            \"październik, paź, X\",\n",
    "            \"listopad, lis, XI\",\n",
    "            \"grudzień, gru, XII\"\n",
    "        ]\n",
    "    }\n",
    "}\n",
    "\n",
    "\n",
    "def polish_analyzer(synonyms: bool = True, lemma: bool = True):\n",
    "    analyzer = {\n",
    "        \"tokenizer\": \"standard\",\n",
    "        \"filter\": [\n",
    "            \"lowercase\"\n",
    "        ]\n",
    "    }\n",
    "\n",
    "    if synonyms:\n",
    "        analyzer[\"filter\"] = analyzer[\"filter\"] + [\"months_synonyms\"]\n",
    "\n",
    "    if lemma:\n",
    "        analyzer[\"filter\"] = analyzer[\"filter\"] + [\"morfologik_stem\", \"lowercase\"]\n",
    "\n",
    "    return analyzer\n",
    "\n",
    "polish_analyzer()"
   ]
  },
  {
   "cell_type": "markdown",
   "metadata": {},
   "source": [
    "# Task 5\n",
    "Define an ES index."
   ]
  },
  {
   "cell_type": "code",
   "execution_count": 3,
   "metadata": {},
   "outputs": [
    {
     "name": "stderr",
     "output_type": "stream",
     "text": [
      "/var/folders/5w/06zrhgts1xlbpl77yjk6_83m0000gn/T/ipykernel_76290/472781125.py:45: DeprecationWarning: The 'body' parameter is deprecated and will be removed in a future version. Instead use individual parameters.\n",
      "  response = es.indices.create(index=index_name, body=index_settings)\n"
     ]
    },
    {
     "data": {
      "text/plain": [
       "ObjectApiResponse({'acknowledged': True, 'shards_acknowledged': True, 'index': 'index_lab2'})"
      ]
     },
     "execution_count": 3,
     "metadata": {},
     "output_type": "execute_result"
    }
   ],
   "source": [
    "index_settings = {\n",
    "    \"settings\": {\n",
    "        \"analysis\": {\n",
    "            \"analyzer\": {\n",
    "                \"analyze_synonyms\": polish_analyzer(),\n",
    "                \"analyze_no_synonyms\": polish_analyzer(synonyms=False),\n",
    "                \"analyze_no_lemma\": polish_analyzer(lemma=False),\n",
    "                \"analyze_no_lemma_no_synonyms\": polish_analyzer(synonyms=False, lemma=False),\n",
    "            },\n",
    "            \"filter\": months_synonyms_filter\n",
    "        }\n",
    "    },\n",
    "    \"mappings\": {\n",
    "        \"properties\": {\n",
    "            \"with_synonyms\": {\n",
    "                \"type\": \"text\",\n",
    "                \"analyzer\": \"analyze_synonyms\",\n",
    "            },\n",
    "            \"without_synonyms\": {\n",
    "                \"type\": \"text\",\n",
    "                \"analyzer\": \"analyze_no_synonyms\",\n",
    "            },\n",
    "            \"with_synonyms_no_lemma\": {\n",
    "                \"type\": \"text\",\n",
    "                \"analyzer\": \"analyze_no_lemma\",\n",
    "            },\n",
    "            \"without_synonyms_no_lemma\": {\n",
    "                \"type\": \"text\",\n",
    "                \"analyzer\": \"analyze_no_lemma_no_synonyms\",\n",
    "            },\n",
    "            \"id\": {\n",
    "                \"type\": \"text\",\n",
    "            }\n",
    "        }\n",
    "    }\n",
    "}\n",
    "\n",
    "index_name = \"index_lab2\"\n",
    "\n",
    "try:\n",
    "    es.indices.delete(index=index_name)\n",
    "except:\n",
    "    pass\n",
    "\n",
    "response = es.indices.create(index=index_name, body=index_settings)\n",
    "response"
   ]
  },
  {
   "cell_type": "markdown",
   "metadata": {},
   "source": [
    "# Task 6\n",
    "Load the data to the ES index."
   ]
  },
  {
   "cell_type": "code",
   "execution_count": 4,
   "metadata": {},
   "outputs": [],
   "source": [
    "import pandas as pd"
   ]
  },
  {
   "cell_type": "code",
   "execution_count": 5,
   "metadata": {},
   "outputs": [
    {
     "data": {
      "text/html": [
       "<div>\n",
       "<style scoped>\n",
       "    .dataframe tbody tr th:only-of-type {\n",
       "        vertical-align: middle;\n",
       "    }\n",
       "\n",
       "    .dataframe tbody tr th {\n",
       "        vertical-align: top;\n",
       "    }\n",
       "\n",
       "    .dataframe thead th {\n",
       "        text-align: right;\n",
       "    }\n",
       "</style>\n",
       "<table border=\"1\" class=\"dataframe\">\n",
       "  <thead>\n",
       "    <tr style=\"text-align: right;\">\n",
       "      <th></th>\n",
       "      <th>title</th>\n",
       "      <th>text</th>\n",
       "      <th>metadata</th>\n",
       "    </tr>\n",
       "    <tr>\n",
       "      <th>_id</th>\n",
       "      <th></th>\n",
       "      <th></th>\n",
       "      <th></th>\n",
       "    </tr>\n",
       "  </thead>\n",
       "  <tbody>\n",
       "    <tr>\n",
       "      <th>3</th>\n",
       "      <td></td>\n",
       "      <td>Nie mówię, że nie podoba mi się też pomysł szk...</td>\n",
       "      <td>{}</td>\n",
       "    </tr>\n",
       "    <tr>\n",
       "      <th>31</th>\n",
       "      <td></td>\n",
       "      <td>Tak więc nic nie zapobiega fałszywym ocenom po...</td>\n",
       "      <td>{}</td>\n",
       "    </tr>\n",
       "    <tr>\n",
       "      <th>56</th>\n",
       "      <td></td>\n",
       "      <td>Nigdy nie możesz korzystać z FSA dla indywidua...</td>\n",
       "      <td>{}</td>\n",
       "    </tr>\n",
       "    <tr>\n",
       "      <th>59</th>\n",
       "      <td></td>\n",
       "      <td>Samsung stworzył LCD i inne technologie płaski...</td>\n",
       "      <td>{}</td>\n",
       "    </tr>\n",
       "    <tr>\n",
       "      <th>63</th>\n",
       "      <td></td>\n",
       "      <td>Oto wymagania SEC: Federalne przepisy dotycząc...</td>\n",
       "      <td>{}</td>\n",
       "    </tr>\n",
       "  </tbody>\n",
       "</table>\n",
       "</div>"
      ],
      "text/plain": [
       "    title                                               text metadata\n",
       "_id                                                                  \n",
       "3          Nie mówię, że nie podoba mi się też pomysł szk...       {}\n",
       "31         Tak więc nic nie zapobiega fałszywym ocenom po...       {}\n",
       "56         Nigdy nie możesz korzystać z FSA dla indywidua...       {}\n",
       "59         Samsung stworzył LCD i inne technologie płaski...       {}\n",
       "63         Oto wymagania SEC: Federalne przepisy dotycząc...       {}"
      ]
     },
     "execution_count": 5,
     "metadata": {},
     "output_type": "execute_result"
    }
   ],
   "source": [
    "corpus_df = pd.read_json(\"./data/corpus.jsonl\", lines=True)\n",
    "corpus_df = corpus_df.set_index('_id').sort_index()\n",
    "corpus_df.head()"
   ]
  },
  {
   "cell_type": "code",
   "execution_count": 6,
   "metadata": {},
   "outputs": [
    {
     "data": {
      "text/plain": [
       "57638"
      ]
     },
     "execution_count": 6,
     "metadata": {},
     "output_type": "execute_result"
    }
   ],
   "source": [
    "texts = []\n",
    "\n",
    "for id, row in corpus_df.iterrows():\n",
    "    item = {\n",
    "        \"_index\": index_name,\n",
    "        \"_source\": {\n",
    "            \"with_synonyms\": row[\"text\"],\n",
    "            \"without_synonyms\": row[\"text\"],\n",
    "            \"with_synonyms_no_lemma\": row[\"text\"],\n",
    "            \"without_synonyms_no_lemma\": row[\"text\"],\n",
    "            \"id\": id,\n",
    "        }\n",
    "    }\n",
    "    \n",
    "    texts.append(item)\n",
    "\n",
    "\n",
    "success, _ = helpers.bulk(es, texts)\n",
    "success"
   ]
  },
  {
   "cell_type": "markdown",
   "metadata": {},
   "source": [
    "# Task 7\n",
    "Determine the number of documents containing the word styczeń (in any form) including and excluding the synonyms."
   ]
  },
  {
   "cell_type": "code",
   "execution_count": 7,
   "metadata": {},
   "outputs": [],
   "source": [
    "def get_number_of(word: str, include_synonyms: bool = True):\n",
    "    field = \"with_synonyms\" if include_synonyms else \"without_synonyms\"\n",
    "\n",
    "    query_body = {\n",
    "        \"query\": {\n",
    "            \"match\": {\n",
    "                field: word\n",
    "            }\n",
    "        }\n",
    "    }\n",
    "\n",
    "    response = es.count(index=index_name, body=query_body)\n",
    " \n",
    "    return response[\"count\"]"
   ]
  },
  {
   "cell_type": "code",
   "execution_count": 8,
   "metadata": {},
   "outputs": [
    {
     "name": "stderr",
     "output_type": "stream",
     "text": [
      "/var/folders/5w/06zrhgts1xlbpl77yjk6_83m0000gn/T/ipykernel_76290/2962881792.py:12: DeprecationWarning: The 'body' parameter is deprecated and will be removed in a future version. Instead use individual parameters.\n",
      "  response = es.count(index=index_name, body=query_body)\n"
     ]
    },
    {
     "name": "stdout",
     "output_type": "stream",
     "text": [
      "Number of \"styczeń\" word (with synonyms): 44155\n"
     ]
    }
   ],
   "source": [
    "january_with_synonyms_count = get_number_of(\"styczeń\")\n",
    "print(f\"Number of \\\"styczeń\\\" word (with synonyms): {january_with_synonyms_count}\")"
   ]
  },
  {
   "cell_type": "code",
   "execution_count": 9,
   "metadata": {},
   "outputs": [
    {
     "name": "stdout",
     "output_type": "stream",
     "text": [
      "Number of \"styczeń\" word (with synonyms): 329\n"
     ]
    },
    {
     "name": "stderr",
     "output_type": "stream",
     "text": [
      "/var/folders/5w/06zrhgts1xlbpl77yjk6_83m0000gn/T/ipykernel_76290/2962881792.py:12: DeprecationWarning: The 'body' parameter is deprecated and will be removed in a future version. Instead use individual parameters.\n",
      "  response = es.count(index=index_name, body=query_body)\n"
     ]
    }
   ],
   "source": [
    "january_without_synonyms_count = get_number_of(\"styczeń\", include_synonyms=False)\n",
    "print(f\"Number of \\\"styczeń\\\" word (with synonyms): {january_without_synonyms_count}\")"
   ]
  },
  {
   "cell_type": "markdown",
   "metadata": {},
   "source": [
    "# Task 8-9\n",
    "Compute NDCG@5 for the QA dataset (the test subset) for the following setusp:\n",
    "- synonyms enabled and disabled,\n",
    "- lemmatization in the query enabled and disabled."
   ]
  },
  {
   "cell_type": "markdown",
   "metadata": {},
   "source": [
    "## Load test queries"
   ]
  },
  {
   "cell_type": "code",
   "execution_count": 10,
   "metadata": {},
   "outputs": [
    {
     "data": {
      "text/html": [
       "<div>\n",
       "<style scoped>\n",
       "    .dataframe tbody tr th:only-of-type {\n",
       "        vertical-align: middle;\n",
       "    }\n",
       "\n",
       "    .dataframe tbody tr th {\n",
       "        vertical-align: top;\n",
       "    }\n",
       "\n",
       "    .dataframe thead th {\n",
       "        text-align: right;\n",
       "    }\n",
       "</style>\n",
       "<table border=\"1\" class=\"dataframe\">\n",
       "  <thead>\n",
       "    <tr style=\"text-align: right;\">\n",
       "      <th></th>\n",
       "      <th>text</th>\n",
       "      <th>metadata</th>\n",
       "    </tr>\n",
       "    <tr>\n",
       "      <th>_id</th>\n",
       "      <th></th>\n",
       "      <th></th>\n",
       "    </tr>\n",
       "  </thead>\n",
       "  <tbody>\n",
       "    <tr>\n",
       "      <th>0</th>\n",
       "      <td>Co jest uważane za wydatek służbowy w podróży ...</td>\n",
       "      <td>{}</td>\n",
       "    </tr>\n",
       "    <tr>\n",
       "      <th>1</th>\n",
       "      <td>Zgłaszanie wydatków biznesowych dla firmy bez ...</td>\n",
       "      <td>{}</td>\n",
       "    </tr>\n",
       "    <tr>\n",
       "      <th>2</th>\n",
       "      <td>Przekazywanie pieniędzy z jednej kontroli bizn...</td>\n",
       "      <td>{}</td>\n",
       "    </tr>\n",
       "    <tr>\n",
       "      <th>3</th>\n",
       "      <td>Posiadanie oddzielnego konta bankowego do prow...</td>\n",
       "      <td>{}</td>\n",
       "    </tr>\n",
       "    <tr>\n",
       "      <th>4</th>\n",
       "      <td>Wydatki służbowe - ubezpieczenie samochodu pod...</td>\n",
       "      <td>{}</td>\n",
       "    </tr>\n",
       "  </tbody>\n",
       "</table>\n",
       "</div>"
      ],
      "text/plain": [
       "                                                  text metadata\n",
       "_id                                                            \n",
       "0    Co jest uważane za wydatek służbowy w podróży ...       {}\n",
       "1    Zgłaszanie wydatków biznesowych dla firmy bez ...       {}\n",
       "2    Przekazywanie pieniędzy z jednej kontroli bizn...       {}\n",
       "3    Posiadanie oddzielnego konta bankowego do prow...       {}\n",
       "4    Wydatki służbowe - ubezpieczenie samochodu pod...       {}"
      ]
     },
     "execution_count": 10,
     "metadata": {},
     "output_type": "execute_result"
    }
   ],
   "source": [
    "queries_df = pd.read_json(\"./data/queries.jsonl\", lines=True)\n",
    "queries_df = queries_df.set_index(\"_id\").sort_index()\n",
    "queries_df.head()"
   ]
  },
  {
   "cell_type": "code",
   "execution_count": 11,
   "metadata": {},
   "outputs": [
    {
     "data": {
      "text/html": [
       "<div>\n",
       "<style scoped>\n",
       "    .dataframe tbody tr th:only-of-type {\n",
       "        vertical-align: middle;\n",
       "    }\n",
       "\n",
       "    .dataframe tbody tr th {\n",
       "        vertical-align: top;\n",
       "    }\n",
       "\n",
       "    .dataframe thead th {\n",
       "        text-align: right;\n",
       "    }\n",
       "</style>\n",
       "<table border=\"1\" class=\"dataframe\">\n",
       "  <thead>\n",
       "    <tr style=\"text-align: right;\">\n",
       "      <th></th>\n",
       "      <th>query-id</th>\n",
       "      <th>corpus-id</th>\n",
       "      <th>score</th>\n",
       "    </tr>\n",
       "  </thead>\n",
       "  <tbody>\n",
       "    <tr>\n",
       "      <th>0</th>\n",
       "      <td>8</td>\n",
       "      <td>566392</td>\n",
       "      <td>1</td>\n",
       "    </tr>\n",
       "    <tr>\n",
       "      <th>1</th>\n",
       "      <td>8</td>\n",
       "      <td>65404</td>\n",
       "      <td>1</td>\n",
       "    </tr>\n",
       "    <tr>\n",
       "      <th>2</th>\n",
       "      <td>15</td>\n",
       "      <td>325273</td>\n",
       "      <td>1</td>\n",
       "    </tr>\n",
       "    <tr>\n",
       "      <th>3</th>\n",
       "      <td>18</td>\n",
       "      <td>88124</td>\n",
       "      <td>1</td>\n",
       "    </tr>\n",
       "    <tr>\n",
       "      <th>4</th>\n",
       "      <td>26</td>\n",
       "      <td>285255</td>\n",
       "      <td>1</td>\n",
       "    </tr>\n",
       "  </tbody>\n",
       "</table>\n",
       "</div>"
      ],
      "text/plain": [
       "   query-id  corpus-id  score\n",
       "0         8     566392      1\n",
       "1         8      65404      1\n",
       "2        15     325273      1\n",
       "3        18      88124      1\n",
       "4        26     285255      1"
      ]
     },
     "execution_count": 11,
     "metadata": {},
     "output_type": "execute_result"
    }
   ],
   "source": [
    "qa_test_df = pd.read_csv(\"./data/test.tsv\", sep=\"\\t\")\n",
    "qa_test_df = qa_test_df.sort_values(by=\"query-id\")\n",
    "qa_test_df.head()"
   ]
  },
  {
   "cell_type": "code",
   "execution_count": 12,
   "metadata": {},
   "outputs": [
    {
     "data": {
      "text/html": [
       "<div>\n",
       "<style scoped>\n",
       "    .dataframe tbody tr th:only-of-type {\n",
       "        vertical-align: middle;\n",
       "    }\n",
       "\n",
       "    .dataframe tbody tr th {\n",
       "        vertical-align: top;\n",
       "    }\n",
       "\n",
       "    .dataframe thead th {\n",
       "        text-align: right;\n",
       "    }\n",
       "</style>\n",
       "<table border=\"1\" class=\"dataframe\">\n",
       "  <thead>\n",
       "    <tr style=\"text-align: right;\">\n",
       "      <th></th>\n",
       "      <th>_id</th>\n",
       "      <th>text</th>\n",
       "      <th>metadata</th>\n",
       "    </tr>\n",
       "  </thead>\n",
       "  <tbody>\n",
       "    <tr>\n",
       "      <th>0</th>\n",
       "      <td>8</td>\n",
       "      <td>Jak zdeponować czek wystawiony na współpracown...</td>\n",
       "      <td>{}</td>\n",
       "    </tr>\n",
       "    <tr>\n",
       "      <th>1</th>\n",
       "      <td>15</td>\n",
       "      <td>Czy mogę wysłać przekaz pieniężny z USPS jako ...</td>\n",
       "      <td>{}</td>\n",
       "    </tr>\n",
       "    <tr>\n",
       "      <th>2</th>\n",
       "      <td>18</td>\n",
       "      <td>1 EIN prowadzący działalność pod wieloma nazwa...</td>\n",
       "      <td>{}</td>\n",
       "    </tr>\n",
       "    <tr>\n",
       "      <th>3</th>\n",
       "      <td>26</td>\n",
       "      <td>Ubieganie się o kredyt biznesowy i otrzymywani...</td>\n",
       "      <td>{}</td>\n",
       "    </tr>\n",
       "    <tr>\n",
       "      <th>4</th>\n",
       "      <td>34</td>\n",
       "      <td>401k Przelew po zamknięciu firmy</td>\n",
       "      <td>{}</td>\n",
       "    </tr>\n",
       "  </tbody>\n",
       "</table>\n",
       "</div>"
      ],
      "text/plain": [
       "   _id                                               text metadata\n",
       "0    8  Jak zdeponować czek wystawiony na współpracown...       {}\n",
       "1   15  Czy mogę wysłać przekaz pieniężny z USPS jako ...       {}\n",
       "2   18  1 EIN prowadzący działalność pod wieloma nazwa...       {}\n",
       "3   26  Ubieganie się o kredyt biznesowy i otrzymywani...       {}\n",
       "4   34                   401k Przelew po zamknięciu firmy       {}"
      ]
     },
     "execution_count": 12,
     "metadata": {},
     "output_type": "execute_result"
    }
   ],
   "source": [
    "queries_df = queries_df[queries_df.index.isin(qa_test_df[\"query-id\"])].reset_index()\n",
    "queries_df.head()"
   ]
  },
  {
   "cell_type": "markdown",
   "metadata": {},
   "source": [
    "## NDCG@5"
   ]
  },
  {
   "cell_type": "code",
   "execution_count": 13,
   "metadata": {},
   "outputs": [
    {
     "name": "stderr",
     "output_type": "stream",
     "text": [
      "/var/folders/5w/06zrhgts1xlbpl77yjk6_83m0000gn/T/ipykernel_76290/575410245.py:18: DeprecationWarning: The 'body' parameter is deprecated and will be removed in a future version. Instead use individual parameters.\n",
      "  response = es.search(index=index_name, body=query_body)\n"
     ]
    },
    {
     "data": {
      "text/plain": [
       "[295522, 400230, 135196, 535207, 301161]"
      ]
     },
     "execution_count": 13,
     "metadata": {},
     "output_type": "execute_result"
    }
   ],
   "source": [
    "N = 5\n",
    "\n",
    "def get_top_searches_for(query: str, limit: int, include_synonyms: bool = True, lemma: bool = True):\n",
    "    field = \"with_synonyms\" if include_synonyms else \"without_synonyms\"\n",
    "    if not lemma:\n",
    "        field += \"_no_lemma\"\n",
    "    \n",
    "\n",
    "    query_body = {\n",
    "        \"size\": limit,\n",
    "        \"query\": {\n",
    "            \"match\": {\n",
    "                field: query\n",
    "            }\n",
    "        }\n",
    "    }\n",
    "\n",
    "    response = es.search(index=index_name, body=query_body)\n",
    "\n",
    "    return [item[\"_source\"][\"id\"] for item in response[\"hits\"][\"hits\"]]\n",
    "\n",
    "\n",
    "get_top_searches_for(queries_df.iloc[8][\"text\"], N)"
   ]
  },
  {
   "cell_type": "code",
   "execution_count": 14,
   "metadata": {},
   "outputs": [
    {
     "name": "stderr",
     "output_type": "stream",
     "text": [
      "/var/folders/5w/06zrhgts1xlbpl77yjk6_83m0000gn/T/ipykernel_76290/575410245.py:18: DeprecationWarning: The 'body' parameter is deprecated and will be removed in a future version. Instead use individual parameters.\n",
      "  response = es.search(index=index_name, body=query_body)\n"
     ]
    },
    {
     "data": {
      "text/plain": [
       "[0, 1, 0, 0, 0]"
      ]
     },
     "execution_count": 14,
     "metadata": {},
     "output_type": "execute_result"
    }
   ],
   "source": [
    "queries_corpuses_scores_map: dict[int, dict] = {}\n",
    "\n",
    "for _, row in qa_test_df.iterrows():\n",
    "    query_id = row[\"query-id\"]\n",
    "    corpus_id = row[\"corpus-id\"]\n",
    "    score = row[\"score\"]\n",
    "\n",
    "    if query_id not in queries_corpuses_scores_map:\n",
    "        queries_corpuses_scores_map[query_id] = dict()\n",
    "    \n",
    "    queries_corpuses_scores_map[query_id][corpus_id] = score\n",
    "\n",
    "\n",
    "def eval_search_results(query_id: int, results: list[int]):\n",
    "    return [queries_corpuses_scores_map[query_id].get(corpus_id, 0) for corpus_id in results]\n",
    "\n",
    "\n",
    "eval_search_results(8, get_top_searches_for(queries_df.iloc[0][\"text\"], N))"
   ]
  },
  {
   "cell_type": "code",
   "execution_count": 15,
   "metadata": {},
   "outputs": [
    {
     "name": "stderr",
     "output_type": "stream",
     "text": [
      "/var/folders/5w/06zrhgts1xlbpl77yjk6_83m0000gn/T/ipykernel_76290/575410245.py:18: DeprecationWarning: The 'body' parameter is deprecated and will be removed in a future version. Instead use individual parameters.\n",
      "  response = es.search(index=index_name, body=query_body)\n"
     ]
    },
    {
     "data": {
      "text/plain": [
       "array([0, 1, 0, 0, 0])"
      ]
     },
     "execution_count": 15,
     "metadata": {},
     "output_type": "execute_result"
    }
   ],
   "source": [
    "import numpy as np\n",
    "\n",
    "\n",
    "def eval_queries_results(limit: int, include_synonyms: bool = True, lemma: bool = True):\n",
    "    n_queries = len(queries_corpuses_scores_map)\n",
    "    results = np.empty((n_queries, limit), dtype=int)\n",
    "\n",
    "    for i, query_id in enumerate(queries_corpuses_scores_map):\n",
    "        text = queries_df.loc[queries_df[\"_id\"] == query_id, \"text\"].values[0]\n",
    "        query_search_results = get_top_searches_for(text, N, include_synonyms,lemma)\n",
    "        results[i] = eval_search_results(query_id, query_search_results)\n",
    "\n",
    "    return results\n",
    "\n",
    "\n",
    "eval_queries_results(N)[0]"
   ]
  },
  {
   "cell_type": "code",
   "execution_count": 16,
   "metadata": {},
   "outputs": [],
   "source": [
    "n_queries = len(queries_corpuses_scores_map)\n",
    "target_results = np.zeros((n_queries, N), dtype=int)\n",
    "\n",
    "for i, targets in enumerate(queries_corpuses_scores_map.values()):\n",
    "    n_targets = len(targets)\n",
    "    target_results[i, :n_targets] = 1"
   ]
  },
  {
   "cell_type": "code",
   "execution_count": 17,
   "metadata": {},
   "outputs": [],
   "source": [
    "def mean_ndcg(limit: int, include_synonyms: bool = True, lemma: bool = True):\n",
    "    predicted_results = eval_queries_results(limit, include_synonyms, lemma)\n",
    "\n",
    "    dcg_weights = np.log2(np.arange(2, limit + 2))\n",
    "    dcg_weights = np.resize(dcg_weights, predicted_results.shape)\n",
    "    dcg = np.sum(predicted_results / dcg_weights, axis=1)\n",
    "    idcg = np.sum(target_results / dcg_weights, axis=1)\n",
    "    ndcg = dcg / idcg\n",
    "\n",
    "    return ndcg.mean()"
   ]
  },
  {
   "cell_type": "code",
   "execution_count": 18,
   "metadata": {},
   "outputs": [
    {
     "name": "stderr",
     "output_type": "stream",
     "text": [
      "/var/folders/5w/06zrhgts1xlbpl77yjk6_83m0000gn/T/ipykernel_76290/575410245.py:18: DeprecationWarning: The 'body' parameter is deprecated and will be removed in a future version. Instead use individual parameters.\n",
      "  response = es.search(index=index_name, body=query_body)\n"
     ]
    },
    {
     "name": "stdout",
     "output_type": "stream",
     "text": [
      "Mean NDCG@5 (search with synonyms and with lemma): 0.1858026377473443\n"
     ]
    }
   ],
   "source": [
    "ndcg_with_synonyms = mean_ndcg(N)\n",
    "print(f\"Mean NDCG@{N} (search with synonyms and with lemma): {ndcg_with_synonyms}\")"
   ]
  },
  {
   "cell_type": "code",
   "execution_count": 19,
   "metadata": {},
   "outputs": [
    {
     "name": "stderr",
     "output_type": "stream",
     "text": [
      "/var/folders/5w/06zrhgts1xlbpl77yjk6_83m0000gn/T/ipykernel_76290/575410245.py:18: DeprecationWarning: The 'body' parameter is deprecated and will be removed in a future version. Instead use individual parameters.\n",
      "  response = es.search(index=index_name, body=query_body)\n"
     ]
    },
    {
     "name": "stdout",
     "output_type": "stream",
     "text": [
      "Mean NDCG@5 (search without synonyms and with lemma): 0.1851291130797741\n"
     ]
    }
   ],
   "source": [
    "ndcg_without_synonyms = mean_ndcg(N, include_synonyms=False)\n",
    "print(f\"Mean NDCG@{N} (search without synonyms and with lemma): {ndcg_without_synonyms}\")"
   ]
  },
  {
   "cell_type": "code",
   "execution_count": 20,
   "metadata": {},
   "outputs": [
    {
     "name": "stderr",
     "output_type": "stream",
     "text": [
      "/var/folders/5w/06zrhgts1xlbpl77yjk6_83m0000gn/T/ipykernel_76290/575410245.py:18: DeprecationWarning: The 'body' parameter is deprecated and will be removed in a future version. Instead use individual parameters.\n",
      "  response = es.search(index=index_name, body=query_body)\n"
     ]
    },
    {
     "name": "stdout",
     "output_type": "stream",
     "text": [
      "Mean NDCG@5 (search with synonyms and without lemma): 0.13839287982649878\n"
     ]
    }
   ],
   "source": [
    "ndcg_with_synonyms_no_lemma = mean_ndcg(N, lemma=False)\n",
    "print(f\"Mean NDCG@{N} (search with synonyms and without lemma): {ndcg_with_synonyms_no_lemma}\")"
   ]
  },
  {
   "cell_type": "code",
   "execution_count": 21,
   "metadata": {},
   "outputs": [
    {
     "name": "stderr",
     "output_type": "stream",
     "text": [
      "/var/folders/5w/06zrhgts1xlbpl77yjk6_83m0000gn/T/ipykernel_76290/575410245.py:18: DeprecationWarning: The 'body' parameter is deprecated and will be removed in a future version. Instead use individual parameters.\n",
      "  response = es.search(index=index_name, body=query_body)\n"
     ]
    },
    {
     "name": "stdout",
     "output_type": "stream",
     "text": [
      "Mean NDCG@5 (search without synonyms and without lemma): 0.13854570378524392\n"
     ]
    }
   ],
   "source": [
    "ndcg_without_synonyms_no_lemma = mean_ndcg(N, include_synonyms=False, lemma=False)\n",
    "print(f\"Mean NDCG@{N} (search without synonyms and without lemma): {ndcg_without_synonyms_no_lemma}\")"
   ]
  },
  {
   "cell_type": "markdown",
   "metadata": {},
   "source": [
    "# Questions"
   ]
  },
  {
   "cell_type": "markdown",
   "metadata": {},
   "source": [
    "## What are the strengths and weaknesses of regular expressions versus full text search regarding processing of text?\n",
    "\n",
    "Regular expressions are great for finding specific patterns in text. However, they may become complex and challenging to maintain, lacking semantic understanding of natural language. On the other hand, Full Text Search  systems, while less precise in pattern matching, are better at understanding language, efficiently indexing large datasets, and ranking results for relevance.\n",
    "\n",
    "## Is full text search applicable to the question answering problem? Show at least 3 examples from the corpus to support your claim.\n",
    "\n",
    "Full-text search can be used to some extent in question answering problems, especially for searching documents containing key words. However, for more advanced tasks, especially those requiring understanding the context and semantics of natural language, it may turn out to be insufficient."
   ]
  }
 ],
 "metadata": {
  "kernelspec": {
   "display_name": "venv",
   "language": "python",
   "name": "python3"
  },
  "language_info": {
   "codemirror_mode": {
    "name": "ipython",
    "version": 3
   },
   "file_extension": ".py",
   "mimetype": "text/x-python",
   "name": "python",
   "nbconvert_exporter": "python",
   "pygments_lexer": "ipython3",
   "version": "3.11.4"
  }
 },
 "nbformat": 4,
 "nbformat_minor": 2
}
