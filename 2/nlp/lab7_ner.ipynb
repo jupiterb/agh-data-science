{
 "cells": [
  {
   "cell_type": "markdown",
   "metadata": {},
   "source": [
    "# Task 1-2\n",
    "Take 1 thousand random passages from the FIQA-PL corpus."
   ]
  },
  {
   "cell_type": "code",
   "execution_count": 1,
   "metadata": {},
   "outputs": [],
   "source": [
    "import spacy\n",
    "\n",
    "import pandas as pd"
   ]
  },
  {
   "cell_type": "code",
   "execution_count": 2,
   "metadata": {},
   "outputs": [
    {
     "data": {
      "text/html": [
       "<div>\n",
       "<style scoped>\n",
       "    .dataframe tbody tr th:only-of-type {\n",
       "        vertical-align: middle;\n",
       "    }\n",
       "\n",
       "    .dataframe tbody tr th {\n",
       "        vertical-align: top;\n",
       "    }\n",
       "\n",
       "    .dataframe thead th {\n",
       "        text-align: right;\n",
       "    }\n",
       "</style>\n",
       "<table border=\"1\" class=\"dataframe\">\n",
       "  <thead>\n",
       "    <tr style=\"text-align: right;\">\n",
       "      <th></th>\n",
       "      <th>title</th>\n",
       "      <th>text</th>\n",
       "      <th>metadata</th>\n",
       "    </tr>\n",
       "    <tr>\n",
       "      <th>_id</th>\n",
       "      <th></th>\n",
       "      <th></th>\n",
       "      <th></th>\n",
       "    </tr>\n",
       "  </thead>\n",
       "  <tbody>\n",
       "    <tr>\n",
       "      <th>3</th>\n",
       "      <td></td>\n",
       "      <td>Nie mówię, że nie podoba mi się też pomysł szk...</td>\n",
       "      <td>{}</td>\n",
       "    </tr>\n",
       "    <tr>\n",
       "      <th>31</th>\n",
       "      <td></td>\n",
       "      <td>Tak więc nic nie zapobiega fałszywym ocenom po...</td>\n",
       "      <td>{}</td>\n",
       "    </tr>\n",
       "    <tr>\n",
       "      <th>56</th>\n",
       "      <td></td>\n",
       "      <td>Nigdy nie możesz korzystać z FSA dla indywidua...</td>\n",
       "      <td>{}</td>\n",
       "    </tr>\n",
       "    <tr>\n",
       "      <th>59</th>\n",
       "      <td></td>\n",
       "      <td>Samsung stworzył LCD i inne technologie płaski...</td>\n",
       "      <td>{}</td>\n",
       "    </tr>\n",
       "    <tr>\n",
       "      <th>63</th>\n",
       "      <td></td>\n",
       "      <td>Oto wymagania SEC: Federalne przepisy dotycząc...</td>\n",
       "      <td>{}</td>\n",
       "    </tr>\n",
       "  </tbody>\n",
       "</table>\n",
       "</div>"
      ],
      "text/plain": [
       "    title                                               text metadata\n",
       "_id                                                                  \n",
       "3          Nie mówię, że nie podoba mi się też pomysł szk...       {}\n",
       "31         Tak więc nic nie zapobiega fałszywym ocenom po...       {}\n",
       "56         Nigdy nie możesz korzystać z FSA dla indywidua...       {}\n",
       "59         Samsung stworzył LCD i inne technologie płaski...       {}\n",
       "63         Oto wymagania SEC: Federalne przepisy dotycząc...       {}"
      ]
     },
     "execution_count": 2,
     "metadata": {},
     "output_type": "execute_result"
    }
   ],
   "source": [
    "corpus_df = pd.read_json(f\"./data/corpus.jsonl\", lines=True)\n",
    "corpus_df = corpus_df.set_index(\"_id\").sort_index()\n",
    "corpus_df.head()"
   ]
  },
  {
   "cell_type": "code",
   "execution_count": 3,
   "metadata": {},
   "outputs": [],
   "source": [
    "passages = [row[\"text\"] for _, row in corpus_df.sample(1000).iterrows()]"
   ]
  },
  {
   "cell_type": "markdown",
   "metadata": {},
   "source": [
    "# Task 3\n",
    "Use the lemmatized and sentence split documents to identify the expressions that consist of consecutive words starting with a capital letter."
   ]
  },
  {
   "cell_type": "code",
   "execution_count": 4,
   "metadata": {},
   "outputs": [],
   "source": [
    "from typing import Sequence\n",
    "\n",
    "\n",
    "polish = spacy.load(\"pl_core_news_sm\")\n",
    "\n",
    "\n",
    "def get_lemmatized_capitalized_expressions(corpus: Sequence[str], lang = polish):\n",
    "    for passage in lang.pipe(corpus):\n",
    "\n",
    "        for sentence in passage.sents:\n",
    "            seq = []\n",
    "            \n",
    "            for i, token in enumerate(sentence):\n",
    "\n",
    "                if i > 0 and token.text.istitle():\n",
    "                    seq.append(token.lemma_)\n",
    "                \n",
    "                elif any(seq):\n",
    "                    yield \" \".join(seq)\n",
    "                    seq = []"
   ]
  },
  {
   "cell_type": "code",
   "execution_count": 5,
   "metadata": {},
   "outputs": [
    {
     "name": "stdout",
     "output_type": "stream",
     "text": [
      "Kraków\n",
      "Polska\n",
      "Stany Zjednoczone\n"
     ]
    }
   ],
   "source": [
    "example_text = \"Wczoraj w Krakowie miało miejsce spotkanie prezydentów Polski i Stanów Zjednoczonych.\"\n",
    "\n",
    "for item in get_lemmatized_capitalized_expressions([example_text]):\n",
    "    print(item)"
   ]
  },
  {
   "cell_type": "markdown",
   "metadata": {},
   "source": [
    "# Task 4\n",
    "Compute the frequency of each identified expression and print 50 results with the largest number of occurrences."
   ]
  },
  {
   "cell_type": "code",
   "execution_count": 6,
   "metadata": {},
   "outputs": [],
   "source": [
    "def count(items):\n",
    "    items_freq = {}\n",
    "    for item in items:\n",
    "        items_freq[item] = items_freq.get(item, 0) + 1\n",
    "    return items_freq\n",
    "\n",
    "\n",
    "def order_by_values(d: dict):\n",
    "    return sorted([(k, v) for k, v in d.items()], key=lambda kv: kv[1], reverse=True)"
   ]
  },
  {
   "cell_type": "code",
   "execution_count": 7,
   "metadata": {},
   "outputs": [
    {
     "data": {
      "text/plain": [
       "[('twój', 150),\n",
       " ('ty', 116),\n",
       " ('Twój', 43),\n",
       " ('Stany Zjednoczone', 39),\n",
       " ('nie', 38),\n",
       " ('Ciebie', 35),\n",
       " ('Roth', 34),\n",
       " ('to', 32),\n",
       " ('Indie', 26),\n",
       " ('w', 25),\n",
       " ('jeśli', 25),\n",
       " ('Twoją', 21),\n",
       " ('czy', 21),\n",
       " ('być', 18),\n",
       " ('K', 17),\n",
       " ('X', 17),\n",
       " ('Google', 16),\n",
       " ('Internet', 15),\n",
       " ('S&P', 15),\n",
       " ('Chiny', 14),\n",
       " ('tak', 14),\n",
       " ('Wielki Brytania', 14),\n",
       " ('Ameryka', 13),\n",
       " ('Twojej', 12),\n",
       " ('B', 12),\n",
       " ('mieć', 11),\n",
       " ('po', 11),\n",
       " ('Miami', 11),\n",
       " ('Kanada', 10),\n",
       " ('A', 10),\n",
       " ('Excel', 9),\n",
       " ('jak', 9),\n",
       " ('Wall Street', 9),\n",
       " ('Rosja', 9),\n",
       " ('Twojego', 9),\n",
       " ('myśleć', 8),\n",
       " ('wersja', 8),\n",
       " ('Australia', 8),\n",
       " ('Fed', 8),\n",
       " ('Europa', 8),\n",
       " ('Kalifornia', 8),\n",
       " ('china', 8),\n",
       " ('Amerykanin', 8),\n",
       " ('Twoich', 8),\n",
       " ('amator', 8),\n",
       " ('słowo', 7),\n",
       " ('Apple', 7),\n",
       " ('John', 7),\n",
       " ('i', 7),\n",
       " ('Target', 7)]"
      ]
     },
     "execution_count": 7,
     "metadata": {},
     "output_type": "execute_result"
    }
   ],
   "source": [
    "N = 50\n",
    "\n",
    "order_by_values(count(get_lemmatized_capitalized_expressions(passages)))[:N]"
   ]
  },
  {
   "cell_type": "markdown",
   "metadata": {},
   "source": [
    "# Task 5-6\n",
    "Apply the NER from SpaCy to identify the named entities in the same set of documents.\n",
    "Plot the frequency (histogram) of the identified classes."
   ]
  },
  {
   "cell_type": "code",
   "execution_count": 8,
   "metadata": {},
   "outputs": [],
   "source": [
    "def get_named_entities(corpus: Sequence[str], lang = polish):\n",
    "    for passage in lang.pipe(corpus):\n",
    "        for entity in passage.ents:\n",
    "            yield entity"
   ]
  },
  {
   "cell_type": "code",
   "execution_count": 9,
   "metadata": {},
   "outputs": [],
   "source": [
    "named_entities = list(get_named_entities(passages))"
   ]
  },
  {
   "cell_type": "code",
   "execution_count": 10,
   "metadata": {},
   "outputs": [],
   "source": [
    "def map_tokens(tokens, mapping):\n",
    "    for token in tokens:\n",
    "        yield mapping(token)\n",
    "\n",
    "\n",
    "get_named_entities_lemmatizations = lambda entities: map_tokens(entities, lambda entity: entity.lemma_)\n",
    "get_named_entities_labels = lambda entities: map_tokens(entities, lambda entity: entity.label_)"
   ]
  },
  {
   "cell_type": "code",
   "execution_count": 11,
   "metadata": {},
   "outputs": [],
   "source": [
    "named_entities_labels = get_named_entities_labels(named_entities)\n",
    "label_counts = count(named_entities_labels)"
   ]
  },
  {
   "cell_type": "code",
   "execution_count": 12,
   "metadata": {},
   "outputs": [
    {
     "data": {
      "image/png": "[encoded data removed]",
      "text/plain": [
       "<Figure size 800x600 with 1 Axes>"
      ]
     },
     "metadata": {},
     "output_type": "display_data"
    }
   ],
   "source": [
    "import matplotlib.pyplot as plt\n",
    "\n",
    "\n",
    "plt.figure(figsize=(8, 6))\n",
    "plt.bar(list(label_counts.keys()), list(label_counts.values()))\n",
    "plt.xlabel(\"Label\")\n",
    "plt.ylabel(\"Quantity\")\n",
    "plt.title(\"Histogram of Named Entities Labels Quantity\")\n",
    "plt.xticks(rotation=45)\n",
    "plt.tight_layout()\n",
    "\n",
    "plt.show()"
   ]
  },
  {
   "cell_type": "markdown",
   "metadata": {},
   "source": [
    "# Task 7\n",
    "Display 10 most frequent Named Entities for each identified type."
   ]
  },
  {
   "cell_type": "code",
   "execution_count": 13,
   "metadata": {},
   "outputs": [],
   "source": [
    "def top_named_entities_by_label(named_entities):\n",
    "    named_entities_lemma = list(get_named_entities_lemmatizations(named_entities))\n",
    "    named_entities_labels = list(get_named_entities_labels(named_entities))\n",
    "\n",
    "    labels = set(named_entities_labels)\n",
    "    labels_named_eneties = {label: [] for label in labels}\n",
    "\n",
    "    for label, lemma in zip(named_entities_labels, named_entities_lemma):\n",
    "        labels_named_eneties[label].append(lemma)\n",
    "\n",
    "    for label, entites in labels_named_eneties.items():\n",
    "        labels_named_eneties[label] = order_by_values(count(entites))\n",
    "\n",
    "    return labels_named_eneties"
   ]
  },
  {
   "cell_type": "code",
   "execution_count": 14,
   "metadata": {},
   "outputs": [
    {
     "data": {
      "text/html": [
       "<div>\n",
       "<style scoped>\n",
       "    .dataframe tbody tr th:only-of-type {\n",
       "        vertical-align: middle;\n",
       "    }\n",
       "\n",
       "    .dataframe tbody tr th {\n",
       "        vertical-align: top;\n",
       "    }\n",
       "\n",
       "    .dataframe thead th {\n",
       "        text-align: right;\n",
       "    }\n",
       "</style>\n",
       "<table border=\"1\" class=\"dataframe\">\n",
       "  <thead>\n",
       "    <tr style=\"text-align: right;\">\n",
       "      <th></th>\n",
       "      <th>geogName</th>\n",
       "      <th>time</th>\n",
       "      <th>date</th>\n",
       "      <th>persName</th>\n",
       "      <th>orgName</th>\n",
       "      <th>placeName</th>\n",
       "    </tr>\n",
       "  </thead>\n",
       "  <tbody>\n",
       "    <tr>\n",
       "      <th>0</th>\n",
       "      <td>(Europa, 9)</td>\n",
       "      <td>(godzina 14, 1)</td>\n",
       "      <td>(2012 rok., 6)</td>\n",
       "      <td>(gdyby być, 15)</td>\n",
       "      <td>(IRA, 55)</td>\n",
       "      <td>(USA, 91)</td>\n",
       "    </tr>\n",
       "    <tr>\n",
       "      <th>1</th>\n",
       "      <td>(D'Atlantis, 5)</td>\n",
       "      <td>(1., 1)</td>\n",
       "      <td>(rok 2008, 5)</td>\n",
       "      <td>(Amazon, 10)</td>\n",
       "      <td>(ETF, 23)</td>\n",
       "      <td>(amerykański, 38)</td>\n",
       "    </tr>\n",
       "    <tr>\n",
       "      <th>2</th>\n",
       "      <td>(Ameryka, 4)</td>\n",
       "      <td>(50, 1)</td>\n",
       "      <td>(2014 rok., 5)</td>\n",
       "      <td>(Trump, 9)</td>\n",
       "      <td>(Google, 16)</td>\n",
       "      <td>(Stany Zjednoczone, 38)</td>\n",
       "    </tr>\n",
       "    <tr>\n",
       "      <th>3</th>\n",
       "      <td>(Wall Street, 2)</td>\n",
       "      <td>(godzina., 1)</td>\n",
       "      <td>(styczeń, 4)</td>\n",
       "      <td>(John, 7)</td>\n",
       "      <td>(Roth IRA, 15)</td>\n",
       "      <td>(Indie, 27)</td>\n",
       "    </tr>\n",
       "    <tr>\n",
       "      <th>4</th>\n",
       "      <td>(Azja, 2)</td>\n",
       "      <td>(godzina 16., 1)</td>\n",
       "      <td>(2010, 4)</td>\n",
       "      <td>(Excel, 7)</td>\n",
       "      <td>(LLC, 15)</td>\n",
       "      <td>(Wielki Brytania, 15)</td>\n",
       "    </tr>\n",
       "    <tr>\n",
       "      <th>5</th>\n",
       "      <td>(Galaktyka, 1)</td>\n",
       "      <td>(00, 1)</td>\n",
       "      <td>(2008 rok, 4)</td>\n",
       "      <td>(Gruber, 7)</td>\n",
       "      <td>(NYSE, 12)</td>\n",
       "      <td>(Chiny, 14)</td>\n",
       "    </tr>\n",
       "    <tr>\n",
       "      <th>6</th>\n",
       "      <td>(Dochód, 1)</td>\n",
       "      <td>(14, 1)</td>\n",
       "      <td>(201304, 4)</td>\n",
       "      <td>(sald, 7)</td>\n",
       "      <td>(S&amp;P, 11)</td>\n",
       "      <td>(Ameryka, 12)</td>\n",
       "    </tr>\n",
       "    <tr>\n",
       "      <th>7</th>\n",
       "      <td>(NASDAQ, 1)</td>\n",
       "      <td>None</td>\n",
       "      <td>(2015 rok, 3)</td>\n",
       "      <td>(Ford, 6)</td>\n",
       "      <td>(GE, 11)</td>\n",
       "      <td>(Kanada, 10)</td>\n",
       "    </tr>\n",
       "    <tr>\n",
       "      <th>8</th>\n",
       "      <td>(kanadyjski, 1)</td>\n",
       "      <td>None</td>\n",
       "      <td>(rok 90., 3)</td>\n",
       "      <td>(Portoryko, 5)</td>\n",
       "      <td>(SEC, 10)</td>\n",
       "      <td>(Miami, 10)</td>\n",
       "    </tr>\n",
       "    <tr>\n",
       "      <th>9</th>\n",
       "      <td>(mcDonald's, 1)</td>\n",
       "      <td>None</td>\n",
       "      <td>(2012 rok, 3)</td>\n",
       "      <td>(walmart, 5)</td>\n",
       "      <td>(CC, 10)</td>\n",
       "      <td>(Kalifornia, 8)</td>\n",
       "    </tr>\n",
       "  </tbody>\n",
       "</table>\n",
       "</div>"
      ],
      "text/plain": [
       "           geogName              time            date         persName  \\\n",
       "0       (Europa, 9)   (godzina 14, 1)  (2012 rok., 6)  (gdyby być, 15)   \n",
       "1   (D'Atlantis, 5)           (1., 1)   (rok 2008, 5)     (Amazon, 10)   \n",
       "2      (Ameryka, 4)           (50, 1)  (2014 rok., 5)       (Trump, 9)   \n",
       "3  (Wall Street, 2)     (godzina., 1)    (styczeń, 4)        (John, 7)   \n",
       "4         (Azja, 2)  (godzina 16., 1)       (2010, 4)       (Excel, 7)   \n",
       "5    (Galaktyka, 1)           (00, 1)   (2008 rok, 4)      (Gruber, 7)   \n",
       "6       (Dochód, 1)           (14, 1)     (201304, 4)        (sald, 7)   \n",
       "7       (NASDAQ, 1)              None   (2015 rok, 3)        (Ford, 6)   \n",
       "8   (kanadyjski, 1)              None    (rok 90., 3)   (Portoryko, 5)   \n",
       "9   (mcDonald's, 1)              None   (2012 rok, 3)     (walmart, 5)   \n",
       "\n",
       "          orgName                placeName  \n",
       "0       (IRA, 55)                (USA, 91)  \n",
       "1       (ETF, 23)        (amerykański, 38)  \n",
       "2    (Google, 16)  (Stany Zjednoczone, 38)  \n",
       "3  (Roth IRA, 15)              (Indie, 27)  \n",
       "4       (LLC, 15)    (Wielki Brytania, 15)  \n",
       "5      (NYSE, 12)              (Chiny, 14)  \n",
       "6       (S&P, 11)            (Ameryka, 12)  \n",
       "7        (GE, 11)             (Kanada, 10)  \n",
       "8       (SEC, 10)              (Miami, 10)  \n",
       "9        (CC, 10)          (Kalifornia, 8)  "
      ]
     },
     "execution_count": 14,
     "metadata": {},
     "output_type": "execute_result"
    }
   ],
   "source": [
    "labels_top_named_eneties = top_named_entities_by_label(named_entities)\n",
    "\n",
    "pd.DataFrame(\n",
    "    {\n",
    "        label: entites[:min(10, len(entites))] + [None for _ in range(10 - min(10, len(entites)))] \n",
    "        for label, entites in labels_top_named_eneties.items()\n",
    "    }\n",
    ")"
   ]
  },
  {
   "cell_type": "markdown",
   "metadata": {},
   "source": [
    "# Task 8\n",
    "Display 50 most frequent Named Entities including their count and type."
   ]
  },
  {
   "cell_type": "code",
   "execution_count": 15,
   "metadata": {},
   "outputs": [
    {
     "data": {
      "text/plain": [
       "[(('USA', 'placeName'), 91),\n",
       " (('IRA', 'orgName'), 55),\n",
       " (('amerykański', 'placeName'), 38),\n",
       " (('Stany Zjednoczone', 'placeName'), 38),\n",
       " (('Indie', 'placeName'), 27),\n",
       " (('ETF', 'orgName'), 23),\n",
       " (('Google', 'orgName'), 16),\n",
       " (('Wielki Brytania', 'placeName'), 15),\n",
       " (('Roth IRA', 'orgName'), 15),\n",
       " (('gdyby być', 'persName'), 15),\n",
       " (('LLC', 'orgName'), 15),\n",
       " (('Chiny', 'placeName'), 14),\n",
       " (('NYSE', 'orgName'), 12),\n",
       " (('Ameryka', 'placeName'), 12),\n",
       " (('S&P', 'orgName'), 11),\n",
       " (('GE', 'orgName'), 11),\n",
       " (('Amazon', 'persName'), 10),\n",
       " (('Kanada', 'placeName'), 10),\n",
       " (('SEC', 'orgName'), 10),\n",
       " (('Miami', 'placeName'), 10),\n",
       " (('CC', 'orgName'), 10),\n",
       " (('Trump', 'persName'), 9),\n",
       " (('Europa', 'geogName'), 9),\n",
       " (('HSA', 'orgName'), 9),\n",
       " (('FDIC', 'orgName'), 8),\n",
       " (('Kalifornia', 'placeName'), 8),\n",
       " (('china', 'placeName'), 8),\n",
       " (('Roth', 'orgName'), 8),\n",
       " (('Rosja', 'placeName'), 8),\n",
       " (('IBM', 'orgName'), 8),\n",
       " (('Apple', 'orgName'), 7),\n",
       " (('Australia', 'placeName'), 7),\n",
       " (('John', 'persName'), 7),\n",
       " (('CPA', 'orgName'), 7),\n",
       " (('Excel', 'persName'), 7),\n",
       " (('UE', 'orgName'), 7),\n",
       " (('Gruber', 'persName'), 7),\n",
       " (('sald', 'persName'), 7),\n",
       " (('Dubaj', 'placeName'), 6),\n",
       " (('Microsoft', 'orgName'), 6),\n",
       " (('ESPP', 'orgName'), 6),\n",
       " (('kanada', 'placeName'), 6),\n",
       " (('Amerykanin', 'placeName'), 6),\n",
       " (('Ford', 'persName'), 6),\n",
       " (('OTC', 'orgName'), 6),\n",
       " (('2012 rok.', 'date'), 6),\n",
       " (('Target', 'orgName'), 6),\n",
       " (('Limo Mia GT', 'orgName'), 6),\n",
       " (('Wall Street', 'orgName'), 5),\n",
       " (('Portoryko', 'persName'), 5)]"
      ]
     },
     "execution_count": 15,
     "metadata": {},
     "output_type": "execute_result"
    }
   ],
   "source": [
    "named_entities_lemma = get_named_entities_lemmatizations(named_entities)\n",
    "named_entities_labels = get_named_entities_labels(named_entities)\n",
    "\n",
    "order_by_values(\n",
    "    count(\n",
    "        [(lemma, label) for lemma, label in zip(named_entities_lemma, named_entities_labels)]\n",
    "    )\n",
    ")[:N]"
   ]
  },
  {
   "cell_type": "markdown",
   "metadata": {},
   "source": [
    "# Task 9\n",
    "Display 5 sentences containing at least 2 recognized named entities with different types. Highlight the recognized spans with color."
   ]
  },
  {
   "cell_type": "code",
   "execution_count": 16,
   "metadata": {},
   "outputs": [],
   "source": [
    "from spacy import displacy"
   ]
  },
  {
   "cell_type": "code",
   "execution_count": 17,
   "metadata": {},
   "outputs": [],
   "source": [
    "def display_named_entites_in_sentences(corpus: Sequence[str], lang=polish, limit=5, min_types=2):\n",
    "    count = 0\n",
    "\n",
    "    for passage in corpus:\n",
    "\n",
    "        for sentence in lang(passage).sents:\n",
    "            labels = set()\n",
    "\n",
    "            for entity in sentence.ents:\n",
    "                labels.add(entity.label_)\n",
    "\n",
    "            if len(labels) >= min_types:\n",
    "                displacy.render(sentence, style=\"ent\")\n",
    "                count += 1\n",
    "\n",
    "            if count == limit:\n",
    "                return"
   ]
  },
  {
   "cell_type": "code",
   "execution_count": 18,
   "metadata": {},
   "outputs": [
    {
     "data": {
      "text/html": [
       "<span class=\"tex2jax_ignore\"><div class=\"entities\" style=\"line-height: 2.5; direction: ltr\">\n",
       "<mark class=\"entity\" style=\"background: #ddd; padding: 0.45em 0.6em; margin: 0 0.25em; line-height: 1; border-radius: 0.35em;\">\n",
       "    John R.\n",
       "    <span style=\"font-size: 0.8em; font-weight: bold; line-height: 1; border-radius: 0.35em; vertical-align: middle; margin-left: 0.5rem\">persName</span>\n",
       "</mark>\n",
       " \n",
       "<mark class=\"entity\" style=\"background: #ddd; padding: 0.45em 0.6em; margin: 0 0.25em; line-height: 1; border-radius: 0.35em;\">\n",
       "    Lott\n",
       "    <span style=\"font-size: 0.8em; font-weight: bold; line-height: 1; border-radius: 0.35em; vertical-align: middle; margin-left: 0.5rem\">persName</span>\n",
       "</mark>\n",
       ", \n",
       "<mark class=\"entity\" style=\"background: #ddd; padding: 0.45em 0.6em; margin: 0 0.25em; line-height: 1; border-radius: 0.35em;\">\n",
       "    Jr.\n",
       "    <span style=\"font-size: 0.8em; font-weight: bold; line-height: 1; border-radius: 0.35em; vertical-align: middle; margin-left: 0.5rem\">persName</span>\n",
       "</mark>\n",
       " i \n",
       "<mark class=\"entity\" style=\"background: #ddd; padding: 0.45em 0.6em; margin: 0 0.25em; line-height: 1; border-radius: 0.35em;\">\n",
       "    Russell D.\n",
       "    <span style=\"font-size: 0.8em; font-weight: bold; line-height: 1; border-radius: 0.35em; vertical-align: middle; margin-left: 0.5rem\">orgName</span>\n",
       "</mark>\n",
       " Roberts twierdzą, że cena popcornu w kinach jest proporcjonalna do jego znacznie wyższych kosztów. </div></span>"
      ],
      "text/plain": [
       "<IPython.core.display.HTML object>"
      ]
     },
     "metadata": {},
     "output_type": "display_data"
    },
    {
     "data": {
      "text/html": [
       "<span class=\"tex2jax_ignore\"><div class=\"entities\" style=\"line-height: 2.5; direction: ltr\">Twoje „reperkusje” za dyskryminację są \n",
       "<mark class=\"entity\" style=\"background: #ddd; padding: 0.45em 0.6em; margin: 0 0.25em; line-height: 1; border-radius: 0.35em;\">\n",
       "    BS\n",
       "    <span style=\"font-size: 0.8em; font-weight: bold; line-height: 1; border-radius: 0.35em; vertical-align: middle; margin-left: 0.5rem\">persName</span>\n",
       "</mark>\n",
       ", ponieważ tutaj [w \n",
       "<mark class=\"entity\" style=\"background: #ddd; padding: 0.45em 0.6em; margin: 0 0.25em; line-height: 1; border-radius: 0.35em;\">\n",
       "    Waszyngtonie\n",
       "    <span style=\"font-size: 0.8em; font-weight: bold; line-height: 1; border-radius: 0.35em; vertical-align: middle; margin-left: 0.5rem\">placeName</span>\n",
       "</mark>\n",
       " taksówkarze otwarcie dyskryminuj \n",
       "<mark class=\"entity\" style=\"background: #ddd; padding: 0.45em 0.6em; margin: 0 0.25em; line-height: 1; border-radius: 0.35em;\">\n",
       "    Czarnych](http://archive.wusa9.com\n",
       "    <span style=\"font-size: 0.8em; font-weight: bold; line-height: 1; border-radius: 0.35em; vertical-align: middle; margin-left: 0.5rem\">persName</span>\n",
       "</mark>\n",
       "/news/\n",
       "<mark class=\"entity\" style=\"background: #ddd; padding: 0.45em 0.6em; margin: 0 0.25em; line-height: 1; border-radius: 0.35em;\">\n",
       "    article/286584/158/WUSA9\n",
       "    <span style=\"font-size: 0.8em; font-weight: bold; line-height: 1; border-radius: 0.35em; vertical-align: middle; margin-left: 0.5rem\">placeName</span>\n",
       "</mark>\n",
       "-\n",
       "<mark class=\"entity\" style=\"background: #ddd; padding: 0.45em 0.6em; margin: 0 0.25em; line-height: 1; border-radius: 0.35em;\">\n",
       "    Undercover-Cabs\n",
       "    <span style=\"font-size: 0.8em; font-weight: bold; line-height: 1; border-radius: 0.35em; vertical-align: middle; margin-left: 0.5rem\">placeName</span>\n",
       "</mark>\n",
       "-\n",
       "<mark class=\"entity\" style=\"background: #ddd; padding: 0.45em 0.6em; margin: 0 0.25em; line-height: 1; border-radius: 0.35em;\">\n",
       "    strand\n",
       "    <span style=\"font-size: 0.8em; font-weight: bold; line-height: 1; border-radius: 0.35em; vertical-align: middle; margin-left: 0.5rem\">persName</span>\n",
       "</mark>\n",
       "-blacks---official-says-its-not-racism) </div></span>"
      ],
      "text/plain": [
       "<IPython.core.display.HTML object>"
      ]
     },
     "metadata": {},
     "output_type": "display_data"
    },
    {
     "data": {
      "text/html": [
       "<span class=\"tex2jax_ignore\"><div class=\"entities\" style=\"line-height: 2.5; direction: ltr\">Twoja strona internetowa uzyska najwyższe pozycje w \n",
       "<mark class=\"entity\" style=\"background: #ddd; padding: 0.45em 0.6em; margin: 0 0.25em; line-height: 1; border-radius: 0.35em;\">\n",
       "    Google\n",
       "    <span style=\"font-size: 0.8em; font-weight: bold; line-height: 1; border-radius: 0.35em; vertical-align: middle; margin-left: 0.5rem\">orgName</span>\n",
       "</mark>\n",
       ", \n",
       "<mark class=\"entity\" style=\"background: #ddd; padding: 0.45em 0.6em; margin: 0 0.25em; line-height: 1; border-radius: 0.35em;\">\n",
       "    Yahoo\n",
       "    <span style=\"font-size: 0.8em; font-weight: bold; line-height: 1; border-radius: 0.35em; vertical-align: middle; margin-left: 0.5rem\">orgName</span>\n",
       "</mark>\n",
       ", \n",
       "<mark class=\"entity\" style=\"background: #ddd; padding: 0.45em 0.6em; margin: 0 0.25em; line-height: 1; border-radius: 0.35em;\">\n",
       "    Bing\n",
       "    <span style=\"font-size: 0.8em; font-weight: bold; line-height: 1; border-radius: 0.35em; vertical-align: middle; margin-left: 0.5rem\">persName</span>\n",
       "</mark>\n",
       ", MSN i wielu innych ważnych wyszukiwarkach, takich jak google i yahoo. </div></span>"
      ],
      "text/plain": [
       "<IPython.core.display.HTML object>"
      ]
     },
     "metadata": {},
     "output_type": "display_data"
    },
    {
     "data": {
      "text/html": [
       "<span class=\"tex2jax_ignore\"><div class=\"entities\" style=\"line-height: 2.5; direction: ltr\">Dzięki takim wirtualnym usługom reklamowym w \n",
       "<mark class=\"entity\" style=\"background: #ddd; padding: 0.45em 0.6em; margin: 0 0.25em; line-height: 1; border-radius: 0.35em;\">\n",
       "    Dubaju\n",
       "    <span style=\"font-size: 0.8em; font-weight: bold; line-height: 1; border-radius: 0.35em; vertical-align: middle; margin-left: 0.5rem\">placeName</span>\n",
       "</mark>\n",
       " jesteśmy najlepszymi firmami \n",
       "<mark class=\"entity\" style=\"background: #ddd; padding: 0.45em 0.6em; margin: 0 0.25em; line-height: 1; border-radius: 0.35em;\">\n",
       "    SEO\n",
       "    <span style=\"font-size: 0.8em; font-weight: bold; line-height: 1; border-radius: 0.35em; vertical-align: middle; margin-left: 0.5rem\">orgName</span>\n",
       "</mark>\n",
       " w \n",
       "<mark class=\"entity\" style=\"background: #ddd; padding: 0.45em 0.6em; margin: 0 0.25em; line-height: 1; border-radius: 0.35em;\">\n",
       "    Dubaju\n",
       "    <span style=\"font-size: 0.8em; font-weight: bold; line-height: 1; border-radius: 0.35em; vertical-align: middle; margin-left: 0.5rem\">placeName</span>\n",
       "</mark>\n",
       ", jest to naprawdę idealna opcja, aby nie zapomnieć, co przyniesie produktywne wyniki. </div></span>"
      ],
      "text/plain": [
       "<IPython.core.display.HTML object>"
      ]
     },
     "metadata": {},
     "output_type": "display_data"
    },
    {
     "data": {
      "text/html": [
       "<span class=\"tex2jax_ignore\"><div class=\"entities\" style=\"line-height: 2.5; direction: ltr\">Odnoszę się konkretnie do podręczników \n",
       "<mark class=\"entity\" style=\"background: #ddd; padding: 0.45em 0.6em; margin: 0 0.25em; line-height: 1; border-radius: 0.35em;\">\n",
       "    RWJ\n",
       "    <span style=\"font-size: 0.8em; font-weight: bold; line-height: 1; border-radius: 0.35em; vertical-align: middle; margin-left: 0.5rem\">orgName</span>\n",
       "</mark>\n",
       " dotyczących finansów korporacyjnych oraz opcji \n",
       "<mark class=\"entity\" style=\"background: #ddd; padding: 0.45em 0.6em; margin: 0 0.25em; line-height: 1; border-radius: 0.35em;\">\n",
       "    Hull\n",
       "    <span style=\"font-size: 0.8em; font-weight: bold; line-height: 1; border-radius: 0.35em; vertical-align: middle; margin-left: 0.5rem\">persName</span>\n",
       "</mark>\n",
       " i instrumentów pochodnych. </div></span>"
      ],
      "text/plain": [
       "<IPython.core.display.HTML object>"
      ]
     },
     "metadata": {},
     "output_type": "display_data"
    }
   ],
   "source": [
    "display_named_entites_in_sentences(passages)"
   ]
  },
  {
   "cell_type": "markdown",
   "metadata": {},
   "source": [
    "# Questions"
   ]
  },
  {
   "cell_type": "markdown",
   "metadata": {},
   "source": [
    "## Which of the method (counting expressions with capital letters vs. NER) worked better for the task concerned with identification of the proper names?\n",
    "\n",
    "The NER method works much better. It's not perfect, but unlike counting expressions with capital letters, it returns significantly fewer examples that are not proper names.\n",
    "\n",
    "## What are the drawbacks of the method based on capital letters?\n",
    "\n",
    "The problem with the method based on capitalizing expressions is that expressions that are proper names may be at the beginning of a sentence and there may be expressions that are written with a capital letter and are not proper names, such as polite phrases or simple mistakes. Besides, this method would not work at all for languages like German.\n",
    "\n",
    "## What are the drawbacks of the method based on NER?\n",
    "\n",
    "It often incorrectly assigns expressions to classes and cannot deal with expressions with the same meaning, such as \"USA\" and \"Stany Zjednoczone\".\n",
    "\n",
    "## Which of the coarse-grained NER groups has the best and which has the worst results? Try to justify this observation.\n",
    "\n",
    "The best results are for dates and organizations, the worst for person names.\n",
    "\n",
    "## Do you think NER is sufficient for identifying different occurrences of the same entity (i.e. consider \"USA\" and \"Stany Zjednoczone\" and \"Stany Zjednoczone Ameryki Północnej\")? If not, can you suggest an algorithm or a tool that would be able to group such names together?\n",
    "\n",
    "Are not. Perhaps a solution would be to create a dictionary of synonyms. In the first step, we collect proper names, then we check their semantic similarity using some model and create such a dictionary.\n",
    "\n",
    "## Can you think of a real world problem that would benefit the most from application of Named Entity Recognition algorithm?\n",
    "\n",
    "This could be used to create articles with automatic finding of links to references. For example, when writing a text, a proper name appears, this tool will detect and insert a hyperlink to the Wikipedia article."
   ]
  }
 ],
 "metadata": {
  "kernelspec": {
   "display_name": "venv",
   "language": "python",
   "name": "python3"
  },
  "language_info": {
   "codemirror_mode": {
    "name": "ipython",
    "version": 3
   },
   "file_extension": ".py",
   "mimetype": "text/x-python",
   "name": "python",
   "nbconvert_exporter": "python",
   "pygments_lexer": "ipython3",
   "version": "3.11.4"
  }
 },
 "nbformat": 4,
 "nbformat_minor": 2
}
